{
 "cells": [
  {
   "cell_type": "code",
   "execution_count": 2,
   "id": "temporal-fetish",
   "metadata": {},
   "outputs": [],
   "source": [
    "import cv2\n",
    "import glob\n",
    "import numpy as np\n",
    "import pandas as pd\n",
    "import keras\n",
    "from keras.preprocessing.image import load_img, img_to_array \n",
    "from keras.applications.inception_v3 import preprocess_input\n",
    "from PIL import Image\n",
    "from keras.preprocessing.image import ImageDataGenerator\n",
    "import os"
   ]
  },
  {
   "cell_type": "code",
   "execution_count": 2,
   "id": "narrative-still",
   "metadata": {},
   "outputs": [],
   "source": [
    "DATA_DIR = \"C:\\\\Devanagari\\\\Data\\\\Train\"\n",
    "os.chdir(\"C:\\\\Devanagari\\\\Data\\\\Train\")"
   ]
  },
  {
   "cell_type": "code",
   "execution_count": 3,
   "id": "lightweight-helping",
   "metadata": {},
   "outputs": [
    {
     "name": "stdout",
     "output_type": "stream",
     "text": [
      "Found 74290 images belonging to 46 classes.\n",
      "Found 3910 images belonging to 46 classes.\n"
     ]
    }
   ],
   "source": [
    "train_datagen = ImageDataGenerator(\n",
    "        rescale=1./255,\n",
    "        zoom_range=0.2,\n",
    "        rotation_range=90,\n",
    "        horizontal_flip=True,\n",
    "        validation_split=0.05)\n",
    "train_generator = train_datagen.flow_from_directory(\n",
    "        'C:\\\\Devanagari\\\\Data\\\\Train\\\\',\n",
    "        target_size=(32,32),\n",
    "        batch_size=128,color_mode='grayscale',\n",
    "        class_mode='categorical',\n",
    "        subset='training')\n",
    "\n",
    "val_generator = train_datagen.flow_from_directory(\n",
    "        'C:\\\\Devanagari\\\\Data\\\\Train\\\\',\n",
    "        target_size=(32,32),\n",
    "        batch_size=128,color_mode='grayscale',\n",
    "        class_mode='categorical',\n",
    "        subset='validation')\n"
   ]
  },
  {
   "cell_type": "code",
   "execution_count": 4,
   "id": "sweet-video",
   "metadata": {},
   "outputs": [],
   "source": [
    "lables = train_generator.class_indices"
   ]
  },
  {
   "cell_type": "code",
   "execution_count": 5,
   "id": "backed-progressive",
   "metadata": {},
   "outputs": [],
   "source": [
    "from keras.models import Sequential\n",
    "from keras.layers.convolutional import Conv2D\n",
    "from keras.layers.core import Dense,Flatten\n",
    "from keras.layers.pooling import MaxPooling2D\n",
    "from keras.utils import np_utils\n",
    "from keras.optimizers import SGD\n",
    "from keras.layers import Dropout"
   ]
  },
  {
   "cell_type": "code",
   "execution_count": 6,
   "id": "naval-model",
   "metadata": {},
   "outputs": [
    {
     "name": "stdout",
     "output_type": "stream",
     "text": [
      "WARNING:tensorflow:From C:\\Users\\sowmy\\anaconda3\\envs\\tens\\lib\\site-packages\\keras\\backend\\tensorflow_backend.py:4070: The name tf.nn.max_pool is deprecated. Please use tf.nn.max_pool2d instead.\n",
      "\n"
     ]
    }
   ],
   "source": [
    "model=Sequential()\n",
    "model.add(Conv2D(filters=16,kernel_size=(3,3),padding='same',input_shape=(32,32,1)))\n",
    "model.add(MaxPooling2D(pool_size=(2,2)))\n",
    "model.add(Conv2D(filters=32,kernel_size=(3,3),padding='valid'))\n",
    "model.add(MaxPooling2D(pool_size=(2,2)))\n",
    "model.add(Flatten())\n",
    "model.add(Dropout(0.2,seed=100))\n",
    "model.add(Dense(160,activation='relu'))\n",
    "model.add(Dense(120,activation='relu'))\n",
    "model.add(Dense(46,activation='softmax'))"
   ]
  },
  {
   "cell_type": "code",
   "execution_count": 7,
   "id": "congressional-alignment",
   "metadata": {},
   "outputs": [],
   "source": [
    "sgd = SGD(lr=0.01, decay=1e-6, momentum=0.9, nesterov=True)\n",
    "model.compile(optimizer=sgd,loss='categorical_crossentropy',metrics=['accuracy'])"
   ]
  },
  {
   "cell_type": "code",
   "execution_count": 8,
   "id": "increasing-bouquet",
   "metadata": {},
   "outputs": [
    {
     "name": "stdout",
     "output_type": "stream",
     "text": [
      "WARNING:tensorflow:From C:\\Users\\sowmy\\anaconda3\\envs\\tens\\lib\\site-packages\\keras\\backend\\tensorflow_backend.py:422: The name tf.global_variables is deprecated. Please use tf.compat.v1.global_variables instead.\n",
      "\n",
      "Epoch 1/20\n",
      "581/581 [==============================] - 77s 133ms/step - loss: 3.2979 - accuracy: 0.1438 - val_loss: 2.4207 - val_accuracy: 0.2256\n",
      "Epoch 2/20\n",
      "581/581 [==============================] - 81s 139ms/step - loss: 2.1206 - accuracy: 0.4112 - val_loss: 2.2167 - val_accuracy: 0.4179\n",
      "Epoch 3/20\n",
      "581/581 [==============================] - 87s 149ms/step - loss: 1.4530 - accuracy: 0.5798 - val_loss: 1.4151 - val_accuracy: 0.5307\n",
      "Epoch 4/20\n",
      "581/581 [==============================] - 83s 142ms/step - loss: 1.1325 - accuracy: 0.6664 - val_loss: 1.5126 - val_accuracy: 0.6064\n",
      "Epoch 5/20\n",
      "581/581 [==============================] - 85s 147ms/step - loss: 0.9626 - accuracy: 0.7120 - val_loss: 1.1584 - val_accuracy: 0.6297\n",
      "Epoch 6/20\n",
      "581/581 [==============================] - 83s 143ms/step - loss: 0.8424 - accuracy: 0.7469 - val_loss: 1.2663 - val_accuracy: 0.6703\n",
      "Epoch 7/20\n",
      "581/581 [==============================] - 86s 148ms/step - loss: 0.7685 - accuracy: 0.7691 - val_loss: 1.1832 - val_accuracy: 0.6841\n",
      "Epoch 8/20\n",
      "581/581 [==============================] - 78s 135ms/step - loss: 0.7081 - accuracy: 0.7842 - val_loss: 1.0602 - val_accuracy: 0.7107\n",
      "Epoch 9/20\n",
      "581/581 [==============================] - 83s 142ms/step - loss: 0.6661 - accuracy: 0.7987 - val_loss: 0.9611 - val_accuracy: 0.7054\n",
      "Epoch 10/20\n",
      "581/581 [==============================] - 81s 140ms/step - loss: 0.6247 - accuracy: 0.8106 - val_loss: 1.0675 - val_accuracy: 0.7233\n",
      "Epoch 11/20\n",
      "581/581 [==============================] - 82s 140ms/step - loss: 0.5936 - accuracy: 0.8201 - val_loss: 0.6479 - val_accuracy: 0.7371\n",
      "Epoch 12/20\n",
      "581/581 [==============================] - 84s 145ms/step - loss: 0.5719 - accuracy: 0.8253 - val_loss: 0.7925 - val_accuracy: 0.7299\n",
      "Epoch 13/20\n",
      "581/581 [==============================] - 80s 137ms/step - loss: 0.5406 - accuracy: 0.8360 - val_loss: 1.2462 - val_accuracy: 0.7435\n",
      "Epoch 14/20\n",
      "581/581 [==============================] - 79s 136ms/step - loss: 0.5279 - accuracy: 0.8374 - val_loss: 0.6967 - val_accuracy: 0.7445\n",
      "Epoch 15/20\n",
      "581/581 [==============================] - 78s 135ms/step - loss: 0.5049 - accuracy: 0.8454 - val_loss: 0.8447 - val_accuracy: 0.7593\n",
      "Epoch 16/20\n",
      "581/581 [==============================] - 81s 139ms/step - loss: 0.4873 - accuracy: 0.8501 - val_loss: 0.5658 - val_accuracy: 0.7675\n",
      "Epoch 17/20\n",
      "581/581 [==============================] - 79s 136ms/step - loss: 0.4775 - accuracy: 0.8543 - val_loss: 0.8072 - val_accuracy: 0.7834\n",
      "Epoch 18/20\n",
      "581/581 [==============================] - 79s 136ms/step - loss: 0.4629 - accuracy: 0.8571 - val_loss: 0.5928 - val_accuracy: 0.7760\n",
      "Epoch 19/20\n",
      "581/581 [==============================] - 79s 135ms/step - loss: 0.4495 - accuracy: 0.8613 - val_loss: 0.5473 - val_accuracy: 0.7752\n",
      "Epoch 20/20\n",
      "581/581 [==============================] - 79s 136ms/step - loss: 0.4402 - accuracy: 0.8631 - val_loss: 0.8759 - val_accuracy: 0.7652\n"
     ]
    }
   ],
   "source": [
    "history=model.fit(train_generator,epochs=20,validation_data=val_generator)\n"
   ]
  },
  {
   "cell_type": "code",
   "execution_count": 9,
   "id": "complimentary-sheriff",
   "metadata": {},
   "outputs": [],
   "source": [
    "test = pd.read_csv('/Documents/Devanagari/Data/test_X.csv')"
   ]
  },
  {
   "cell_type": "code",
   "execution_count": 10,
   "id": "concerned-native",
   "metadata": {},
   "outputs": [],
   "source": [
    "test = np.array(test)\n",
    "test = test/255.0\n",
    "test = test.reshape(test.shape[0],32,32,1)"
   ]
  },
  {
   "cell_type": "code",
   "execution_count": 20,
   "id": "ordinary-location",
   "metadata": {},
   "outputs": [
    {
     "data": {
      "text/plain": [
       "<matplotlib.image.AxesImage at 0x1aab1629808>"
      ]
     },
     "execution_count": 20,
     "metadata": {},
     "output_type": "execute_result"
    },
    {
     "data": {
      "image/png": "[encoded data removed]",
      "text/plain": [
       "<Figure size 432x288 with 1 Axes>"
      ]
     },
     "metadata": {
      "needs_background": "light"
     },
     "output_type": "display_data"
    }
   ],
   "source": [
    "import matplotlib.pyplot as plt\n",
    "plt.imshow(test[1570,:,:].reshape(32,32), cmap='gray')"
   ]
  },
  {
   "cell_type": "code",
   "execution_count": 21,
   "id": "thorough-bracelet",
   "metadata": {},
   "outputs": [
    {
     "data": {
      "text/plain": [
       "array([[4.64236254e-11, 3.53641785e-13, 6.12143836e-10, 4.04485430e-12,\n",
       "        5.11637746e-11, 2.46494990e-13, 3.10471351e-15, 2.56700325e-03,\n",
       "        1.69398207e-09, 1.41643640e-03, 1.54971278e-13, 1.29290259e-11,\n",
       "        1.10536948e-08, 4.82740870e-09, 3.66813177e-12, 5.37611400e-10,\n",
       "        2.54660095e-11, 1.07681037e-04, 9.11888967e-12, 7.12750414e-11,\n",
       "        4.06130374e-09, 3.05239412e-09, 8.38915426e-08, 4.01733638e-12,\n",
       "        4.05999399e-13, 2.24000031e-13, 1.85095395e-09, 1.53554516e-10,\n",
       "        2.94805494e-13, 8.78527917e-10, 4.24388272e-04, 1.70442203e-08,\n",
       "        9.95484352e-01, 4.50463915e-08, 4.84985996e-10, 5.27964445e-15,\n",
       "        4.00041545e-12, 1.09511695e-14, 1.61222110e-13, 8.09488327e-12,\n",
       "        1.42945135e-11, 5.90205570e-16, 1.56382607e-09, 2.13343898e-10,\n",
       "        4.52230649e-11, 5.60997266e-13]], dtype=float32)"
      ]
     },
     "execution_count": 21,
     "metadata": {},
     "output_type": "execute_result"
    }
   ],
   "source": [
    "p = model.predict_proba(test[1570,:,:].reshape(1,32,32,1))\n",
    "p"
   ]
  },
  {
   "cell_type": "code",
   "execution_count": 22,
   "id": "specialized-merit",
   "metadata": {},
   "outputs": [
    {
     "data": {
      "text/plain": [
       "32"
      ]
     },
     "execution_count": 22,
     "metadata": {},
     "output_type": "execute_result"
    }
   ],
   "source": [
    "np.argmax(p)"
   ]
  },
  {
   "cell_type": "code",
   "execution_count": 14,
   "id": "essential-sellers",
   "metadata": {},
   "outputs": [
    {
     "data": {
      "text/plain": [
       "{'character_10_yna': 0,\n",
       " 'character_11_taamatar': 1,\n",
       " 'character_12_thaa': 2,\n",
       " 'character_13_daa': 3,\n",
       " 'character_14_dhaa': 4,\n",
       " 'character_15_adna': 5,\n",
       " 'character_16_tabala': 6,\n",
       " 'character_17_tha': 7,\n",
       " 'character_18_da': 8,\n",
       " 'character_19_dha': 9,\n",
       " 'character_1_ka': 10,\n",
       " 'character_20_na': 11,\n",
       " 'character_21_pa': 12,\n",
       " 'character_22_pha': 13,\n",
       " 'character_23_ba': 14,\n",
       " 'character_24_bha': 15,\n",
       " 'character_25_ma': 16,\n",
       " 'character_26_yaw': 17,\n",
       " 'character_27_ra': 18,\n",
       " 'character_28_la': 19,\n",
       " 'character_29_waw': 20,\n",
       " 'character_2_kha': 21,\n",
       " 'character_30_motosaw': 22,\n",
       " 'character_31_petchiryakha': 23,\n",
       " 'character_32_patalosaw': 24,\n",
       " 'character_33_ha': 25,\n",
       " 'character_34_chhya': 26,\n",
       " 'character_35_tra': 27,\n",
       " 'character_36_gya': 28,\n",
       " 'character_3_ga': 29,\n",
       " 'character_4_gha': 30,\n",
       " 'character_5_kna': 31,\n",
       " 'character_6_cha': 32,\n",
       " 'character_7_chha': 33,\n",
       " 'character_8_ja': 34,\n",
       " 'character_9_jha': 35,\n",
       " 'digit_0': 36,\n",
       " 'digit_1': 37,\n",
       " 'digit_2': 38,\n",
       " 'digit_3': 39,\n",
       " 'digit_4': 40,\n",
       " 'digit_5': 41,\n",
       " 'digit_6': 42,\n",
       " 'digit_7': 43,\n",
       " 'digit_8': 44,\n",
       " 'digit_9': 45}"
      ]
     },
     "execution_count": 14,
     "metadata": {},
     "output_type": "execute_result"
    }
   ],
   "source": [
    "lables"
   ]
  },
  {
   "cell_type": "code",
   "execution_count": null,
   "id": "suitable-vitamin",
   "metadata": {},
   "outputs": [],
   "source": []
  }
 ],
 "metadata": {
  "kernelspec": {
   "display_name": "Python 3",
   "language": "python",
   "name": "python3"
  },
  "language_info": {
   "codemirror_mode": {
    "name": "ipython",
    "version": 3
   },
   "file_extension": ".py",
   "mimetype": "text/x-python",
   "name": "python",
   "nbconvert_exporter": "python",
   "pygments_lexer": "ipython3",
   "version": "3.7.9"
  }
 },
 "nbformat": 4,
 "nbformat_minor": 5
}
